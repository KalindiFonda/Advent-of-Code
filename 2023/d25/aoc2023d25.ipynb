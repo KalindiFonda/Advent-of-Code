{
  "cells": [
    {
      "cell_type": "code",
      "execution_count": null,
      "metadata": {},
      "outputs": [],
      "source": [
        "# This code was not written at 6am anymore, but I don't feel like the disclaimer should be any different, with the AoC days stacking up, the holiday festivities ramping up and the exhaustion and mind fog increasing, the levels of \"sorry about my code, maybe\" are about the same.\n",
        "\n",
        "# Before posting I remove print statements, unused variables, and dead-end functions and tries, otherwise I leave the code as is, because I think it's fun to see what happens under those conditions.\n",
        "# For more info read the READMEs.\n"
      ]
    },
    {
      "cell_type": "code",
      "execution_count": 2,
      "metadata": {
        "id": "yMZq3nhiYFAg"
      },
      "outputs": [],
      "source": [
        "filename = \"text.txt\"\n",
        "graph = {}\n",
        "all_nodes = set()\n",
        "pairs = set()\n",
        "with open(filename, \"r\") as f:\n",
        "  for i,line in enumerate(f):\n",
        "    head, nodes = line.strip(\"\\n\").split(\": \")\n",
        "    nodes = nodes.split(\" \")\n",
        "    all_nodes.add(head)\n",
        "    for n in nodes:\n",
        "      all_nodes.add(n)\n",
        "      pair = sorted([head, n])\n",
        "      pairs.add(tuple(pair))"
      ]
    },
    {
      "cell_type": "code",
      "execution_count": null,
      "metadata": {
        "colab": {
          "base_uri": "https://localhost:8080/",
          "height": 1000
        },
        "id": "2CMJM-MsamyQ",
        "outputId": "63f39b37-3366-4332-95e1-68bf64cae613"
      },
      "outputs": [],
      "source": [
        "from graphviz import Graph\n",
        "\n",
        "dot = Graph(engine='neato') \n",
        "# I think the engine makes sure that the connectedness of the nodes is accounted for, making sure that the 2 blobs are each pulled to their own side.\n",
        "for n in all_nodes:\n",
        "  dot.node(n, label=\"\")\n",
        "  \n",
        "for g in pairs:\n",
        "  dot.edge(*g)\n",
        "\n",
        "print(dot.source)\n",
        "dot.render('test-output/round-table.gv', view=True)"
      ]
    },
    {
      "cell_type": "code",
      "execution_count": 5,
      "metadata": {
        "colab": {
          "base_uri": "https://localhost:8080/",
          "height": 35
        },
        "id": "OmBCXa7QY9G6",
        "outputId": "3378fd46-2d07-484b-bf7d-41d9fb676429"
      },
      "outputs": [
        {
          "data": {
            "application/vnd.google.colaboratory.intrinsic+json": {
              "type": "string"
            },
            "text/plain": [
              "'doctest-output/round-table.gv.pdf'"
            ]
          },
          "execution_count": 5,
          "metadata": {},
          "output_type": "execute_result"
        }
      ],
      "source": [
        "dot.render('doctest-output/round-table.gv').replace('\\\\', '/')\n",
        "'doctest-output/round-table.gv.pdf'"
      ]
    },
    {
      "cell_type": "code",
      "execution_count": 6,
      "metadata": {
        "id": "hkeNKol3bzoA"
      },
      "outputs": [],
      "source": [
        "# See this from generated image above\n",
        "pairs_to_remove = [\"REDACTED\"]"
      ]
    },
    {
      "cell_type": "code",
      "execution_count": 7,
      "metadata": {
        "colab": {
          "base_uri": "https://localhost:8080/"
        },
        "id": "LSWFuLVScU7T",
        "outputId": "ba5136ac-c2fa-4c7e-bd7c-fb4778018967"
      },
      "outputs": [
        {
          "name": "stdout",
          "output_type": "stream",
          "text": [
            "3309\n",
            "3308\n",
            "3307\n"
          ]
        }
      ],
      "source": [
        "for a, b in pairs_to_remove:\n",
        "  pairs.remove((a, b))\n",
        "  print(len(pairs))"
      ]
    },
    {
      "cell_type": "code",
      "execution_count": null,
      "metadata": {
        "id": "D5rPw2H9deyP"
      },
      "outputs": [],
      "source": [
        "import networkx as nx\n",
        "graph = nx.from_edgelist(pairs)\n",
        "l = 1\n",
        "for n in nx.connected_components(graph):\n",
        "  l *= len(n)\n",
        "  print(len(n))\n",
        "\n",
        "l"
      ]
    }
  ],
  "metadata": {
    "colab": {
      "provenance": []
    },
    "kernelspec": {
      "display_name": "Python 3",
      "name": "python3"
    },
    "language_info": {
      "name": "python"
    }
  },
  "nbformat": 4,
  "nbformat_minor": 0
}
